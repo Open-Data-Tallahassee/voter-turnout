{
 "cells": [
  {
   "cell_type": "markdown",
   "id": "dfa5eae4",
   "metadata": {},
   "source": [
    "### Fetch Election Results"
   ]
  },
  {
   "cell_type": "code",
   "execution_count": 1,
   "id": "449d8e6c",
   "metadata": {},
   "outputs": [],
   "source": [
    "# import libraries\n",
    "import requests\n",
    "from bs4 import BeautifulSoup\n",
    "import pandas as pd\n",
    "import numpy as np\n",
    "import geopandas as gpd"
   ]
  },
  {
   "cell_type": "code",
   "execution_count": 2,
   "id": "78c4fc6d",
   "metadata": {},
   "outputs": [],
   "source": [
    "## set view settings\n",
    "pd.options.display.max_columns = 400\n",
    "pd.options.display.max_rows = 400"
   ]
  },
  {
   "cell_type": "markdown",
   "id": "f198221c",
   "metadata": {},
   "source": [
    "#### Step 1: Download the webpage and store it "
   ]
  },
  {
   "cell_type": "code",
   "execution_count": 3,
   "id": "380372d4",
   "metadata": {},
   "outputs": [],
   "source": [
    "# store the 2022 general elections results page\n",
    "url = 'https://enr.electionsfl.org/LEO/3264/Precincts/44740/'\n",
    "\n",
    "# get the webpage\n",
    "response = requests.get(url)\n",
    "\n",
    "# create a beautifulsoup object using the webpage html\n",
    "soup = BeautifulSoup(response.text)"
   ]
  },
  {
   "cell_type": "markdown",
   "id": "469e0e49",
   "metadata": {},
   "source": [
    "#### Step 2: Identify elements that will be extracted. Use the 'inspect' tool to do this or read the HTML stored in the 'soup' variable"
   ]
  },
  {
   "cell_type": "code",
   "execution_count": 4,
   "id": "7528c628",
   "metadata": {},
   "outputs": [],
   "source": [
    "# precinct name - .PrecinctName\n",
    "# choices - .ChoiceColumn\n",
    "# vote percentages - .col-xs-4+ .notranslate\n",
    "# votes per choice - .col-xs-2+ .ResultsColumn\n",
    "# total votes - .TotalColumn"
   ]
  },
  {
   "cell_type": "markdown",
   "id": "0e07d1bf",
   "metadata": {},
   "source": [
    "#### Step 3: Extract data"
   ]
  },
  {
   "cell_type": "code",
   "execution_count": 14,
   "id": "7fd26199",
   "metadata": {},
   "outputs": [],
   "source": [
    "# create empty dataframe\n",
    "df = pd.DataFrame(columns={'precinct', 'choices', 'pct', 'votes', 'totalVotes'})"
   ]
  },
  {
   "cell_type": "code",
   "execution_count": 15,
   "id": "ce942494",
   "metadata": {},
   "outputs": [],
   "source": [
    "# create list of precincts\n",
    "\n",
    "precinctsList = [] \n",
    "\n",
    "names = soup.select(\".PrecinctName\") \n",
    "for name in names:\n",
    "    precinctsList.append(name.text)"
   ]
  },
  {
   "cell_type": "code",
   "execution_count": 16,
   "id": "b8fd9bb2",
   "metadata": {},
   "outputs": [],
   "source": [
    "# create list of choices\n",
    "choicesList = ['Ron DeSantis', 'Charlie Crist', 'Hector Roos', 'Carmen Jackie Gimenez']*136"
   ]
  },
  {
   "cell_type": "code",
   "execution_count": 17,
   "id": "6a7d58f6",
   "metadata": {},
   "outputs": [],
   "source": [
    "# create list of vote percentages per choice\n",
    "\n",
    "percentagesList = []\n",
    "\n",
    "percentages = soup.select(\".col-xs-4+ .notranslate\") \n",
    "for percentage in percentages:\n",
    "    percentagesList.append(round(float(percentage.text.split('%')[0])/100, 4))"
   ]
  },
  {
   "cell_type": "code",
   "execution_count": 18,
   "id": "8ba51042",
   "metadata": {},
   "outputs": [],
   "source": [
    "# create list of votes per choice\n",
    "\n",
    "votesList = []\n",
    "\n",
    "votes = soup.select(\".col-xs-2+ .ResultsColumn\") \n",
    "for vote in votes:\n",
    "    votesList.append(vote.text)"
   ]
  },
  {
   "cell_type": "code",
   "execution_count": 19,
   "id": "232ded10",
   "metadata": {},
   "outputs": [],
   "source": [
    "# create list of total votes\n",
    "\n",
    "totalVotesList = []\n",
    "totalVotes = soup.select(\".TotalColumn\") \n",
    "for totalVote in totalVotes:\n",
    "    totalVotesList.append(totalVote.text)\n",
    "    \n",
    "totalVotesList = np.repeat(totalVotesList,4)"
   ]
  },
  {
   "cell_type": "markdown",
   "id": "1b0276c5",
   "metadata": {},
   "source": [
    "#### Step 4: Assemble dataframe"
   ]
  },
  {
   "cell_type": "code",
   "execution_count": 20,
   "id": "44953ff3",
   "metadata": {},
   "outputs": [],
   "source": [
    "# add precincts\n",
    "df['precinct'] = precinctsList\n",
    "\n",
    "# replicate rows\n",
    "df = df.iloc[np.arange(len(df)).repeat(4)].reset_index(drop=True)"
   ]
  },
  {
   "cell_type": "code",
   "execution_count": 21,
   "id": "d16aa52b",
   "metadata": {},
   "outputs": [],
   "source": [
    "# add votes\n",
    "df['votes'] = votesList"
   ]
  },
  {
   "cell_type": "code",
   "execution_count": 22,
   "id": "a905416f",
   "metadata": {},
   "outputs": [],
   "source": [
    "# add vote percentages\n",
    "df['pct'] = percentagesList"
   ]
  },
  {
   "cell_type": "code",
   "execution_count": 37,
   "id": "4379e9a1",
   "metadata": {},
   "outputs": [],
   "source": [
    "# add votes per choice\n",
    "df['choices'] = choicesList"
   ]
  },
  {
   "cell_type": "code",
   "execution_count": 23,
   "id": "3c2b5676",
   "metadata": {},
   "outputs": [],
   "source": [
    "# add total votes\n",
    "df['totalVotes'] = totalVotesList"
   ]
  },
  {
   "cell_type": "markdown",
   "id": "99a9be0a",
   "metadata": {},
   "source": [
    "#### Step 5: Clean & export dataframe"
   ]
  },
  {
   "cell_type": "code",
   "execution_count": 24,
   "id": "b83ed99b",
   "metadata": {},
   "outputs": [],
   "source": [
    "# turn totalVotes column into int\n",
    "df['totalVotes'] = df[\"totalVotes\"].replace(\",\", \"\", regex=True).astype(int)"
   ]
  },
  {
   "cell_type": "code",
   "execution_count": 25,
   "id": "bc708ed0",
   "metadata": {},
   "outputs": [],
   "source": [
    "# format str columns to ints\n",
    "df['votes'] = df['votes'].replace(\",\", \"\", regex=True).astype(int)\n",
    "df['precinct'] = df['precinct'].astype(int)"
   ]
  },
  {
   "cell_type": "code",
   "execution_count": 40,
   "id": "1720b09b",
   "metadata": {},
   "outputs": [],
   "source": [
    "# filter candidate & save as new dataframe - CRIST\n",
    "crist = df.query(\" choices == 'Charlie Crist' \").sort_values(by=\"pct\", ascending=False).reset_index(drop=True)"
   ]
  },
  {
   "cell_type": "code",
   "execution_count": 39,
   "id": "fa343bf2",
   "metadata": {},
   "outputs": [],
   "source": [
    "# filter candidate & save as new dataframe - DESANTIS\n",
    "desantis = df.query(\" choices == 'Ron DeSantis' \").sort_values(by=\"pct\", ascending=False).reset_index(drop=True)"
   ]
  },
  {
   "cell_type": "markdown",
   "id": "444655f8",
   "metadata": {},
   "source": [
    "#### Step 6: Merge Votes Data w/ Precincts Shapes"
   ]
  },
  {
   "cell_type": "code",
   "execution_count": 41,
   "id": "a820ddd9",
   "metadata": {},
   "outputs": [],
   "source": [
    "# geojson file of City precincts in Leon County\n",
    "# source: https://geodata-tlcgis.opendata.arcgis.com/datasets/election-precincts-2022/explore?location=30.479225%2C-84.346550%2C9.28\n",
    "precincts = gpd.read_file(\"../data/2022-Precincts.geojson\")"
   ]
  },
  {
   "cell_type": "code",
   "execution_count": 42,
   "id": "3d01f86e",
   "metadata": {},
   "outputs": [],
   "source": [
    "# change 'precinict' column type to integer\n",
    "precincts['PRECINCT'] = precincts['PRECINCT'].astype(int)"
   ]
  },
  {
   "cell_type": "code",
   "execution_count": 43,
   "id": "79a7c94b",
   "metadata": {},
   "outputs": [],
   "source": [
    "precincts[['POLLLOC', 'PRECINCT', 'geometry']].merge(desantis, left_on=\"PRECINCT\", right_on=\"precinct\")[['POLLLOC', 'precinct', 'votes', 'choices', 'pct', 'totalVotes', 'geometry']].sort_values(by='precinct').to_file(\"../data/2022-general-desantis-results.geojson\", driver='GeoJSON')"
   ]
  },
  {
   "cell_type": "code",
   "execution_count": 44,
   "id": "5a0d1afc",
   "metadata": {},
   "outputs": [],
   "source": [
    "precincts[['POLLLOC', 'PRECINCT', 'geometry']].merge(crist, left_on=\"PRECINCT\", right_on=\"precinct\")[['POLLLOC', 'precinct', 'votes', 'choices', 'pct', 'totalVotes', 'geometry']].sort_values(by='precinct').to_file(\"../data/2022-general-crist-results.geojson\", driver='GeoJSON')"
   ]
  },
  {
   "cell_type": "code",
   "execution_count": null,
   "id": "3dd919a2",
   "metadata": {},
   "outputs": [],
   "source": []
  }
 ],
 "metadata": {
  "kernelspec": {
   "display_name": "Python 3 (ipykernel)",
   "language": "python",
   "name": "python3"
  },
  "language_info": {
   "codemirror_mode": {
    "name": "ipython",
    "version": 3
   },
   "file_extension": ".py",
   "mimetype": "text/x-python",
   "name": "python",
   "nbconvert_exporter": "python",
   "pygments_lexer": "ipython3",
   "version": "3.8.12"
  }
 },
 "nbformat": 4,
 "nbformat_minor": 5
}
